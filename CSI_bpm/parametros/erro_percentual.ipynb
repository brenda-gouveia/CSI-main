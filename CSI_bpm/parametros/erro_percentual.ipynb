{
 "cells": [
  {
   "cell_type": "code",
   "execution_count": 1,
   "metadata": {},
   "outputs": [],
   "source": [
    "import pandas as pd\n",
    "import pickle\n",
    "import numpy as np"
   ]
  },
  {
   "cell_type": "code",
   "execution_count": 2,
   "metadata": {},
   "outputs": [],
   "source": [
    "with open (\"variaveis.pkl\", mode ='rb') as f:\n",
    "    relogio, par1 , par2, par3, par4, par5, par6, par7 = pickle.load(f) "
   ]
  },
  {
   "cell_type": "code",
   "execution_count": 3,
   "metadata": {},
   "outputs": [],
   "source": [
    "def formula(relogio, par):\n",
    "    aux = abs(par - relogio)\n",
    "    \n",
    "    return (aux/relogio)*100"
   ]
  },
  {
   "cell_type": "code",
   "execution_count": 4,
   "metadata": {},
   "outputs": [],
   "source": [
    "def media_posicao(obj):\n",
    "\n",
    "    aux = pd.Series()\n",
    "\n",
    "    for i in obj.index:\n",
    "        soma = 0\n",
    "        for j in obj.columns:\n",
    "            soma += obj.loc[[i]][j]\n",
    "             \n",
    "        avg = soma/len(obj.columns)\n",
    "\n",
    "        aux = pd.concat([aux, avg])\n",
    "\n",
    "    return aux"
   ]
  },
  {
   "cell_type": "code",
   "execution_count": 5,
   "metadata": {},
   "outputs": [],
   "source": [
    "erro_percentual = np.frompyfunc(formula, 2, 1)"
   ]
  },
  {
   "attachments": {},
   "cell_type": "markdown",
   "metadata": {},
   "source": [
    "## Configuração 1"
   ]
  },
  {
   "cell_type": "code",
   "execution_count": 6,
   "metadata": {},
   "outputs": [],
   "source": [
    "erro_par1 = erro_percentual(relogio, par1) #pega a parte inicial da formula"
   ]
  },
  {
   "cell_type": "code",
   "execution_count": 7,
   "metadata": {},
   "outputs": [
    {
     "name": "stderr",
     "output_type": "stream",
     "text": [
      "C:\\Users\\Brenda\\AppData\\Local\\Temp\\ipykernel_21908\\545914622.py:3: FutureWarning: The default dtype for empty Series will be 'object' instead of 'float64' in a future version. Specify a dtype explicitly to silence this warning.\n",
      "  aux = pd.Series()\n"
     ]
    }
   ],
   "source": [
    "final_par1 = media_posicao(erro_par1) #aplica a média para cada posição"
   ]
  },
  {
   "cell_type": "code",
   "execution_count": 8,
   "metadata": {},
   "outputs": [
    {
     "data": {
      "text/plain": [
       "001    14.476390\n",
       "002    31.541668\n",
       "003    18.053956\n",
       "007    17.435913\n",
       "008    24.925494\n",
       "         ...    \n",
       "111    17.949466\n",
       "113    16.603966\n",
       "114    13.742402\n",
       "115    14.259207\n",
       "116    21.610164\n",
       "Length: 106, dtype: float64"
      ]
     },
     "execution_count": 8,
     "metadata": {},
     "output_type": "execute_result"
    }
   ],
   "source": [
    "erro_par1.mean() # média por coluna"
   ]
  },
  {
   "attachments": {},
   "cell_type": "markdown",
   "metadata": {},
   "source": [
    "## Configuração 6"
   ]
  },
  {
   "cell_type": "code",
   "execution_count": 11,
   "metadata": {},
   "outputs": [],
   "source": [
    "erro_par6 = erro_percentual(relogio, par6) #pega a parte inicial da formula"
   ]
  },
  {
   "cell_type": "code",
   "execution_count": 12,
   "metadata": {},
   "outputs": [
    {
     "name": "stderr",
     "output_type": "stream",
     "text": [
      "C:\\Users\\Brenda\\AppData\\Local\\Temp\\ipykernel_21908\\545914622.py:3: FutureWarning: The default dtype for empty Series will be 'object' instead of 'float64' in a future version. Specify a dtype explicitly to silence this warning.\n",
      "  aux = pd.Series()\n"
     ]
    }
   ],
   "source": [
    "final_par6 = media_posicao(erro_par6) #aplica a média para cada posição"
   ]
  },
  {
   "cell_type": "code",
   "execution_count": 13,
   "metadata": {},
   "outputs": [
    {
     "data": {
      "text/plain": [
       "001    19.213498\n",
       "002    42.095576\n",
       "003    23.301422\n",
       "007    13.557952\n",
       "008    16.936532\n",
       "         ...    \n",
       "111    12.166374\n",
       "113    27.125412\n",
       "114    15.542228\n",
       "115    10.225571\n",
       "116    12.963771\n",
       "Length: 106, dtype: float64"
      ]
     },
     "execution_count": 13,
     "metadata": {},
     "output_type": "execute_result"
    }
   ],
   "source": [
    "erro_par6.mean() # média por coluna"
   ]
  },
  {
   "cell_type": "code",
   "execution_count": 29,
   "metadata": {},
   "outputs": [
    {
     "data": {
      "text/plain": [
       "0     14.400024\n",
       "1     14.964583\n",
       "2     13.058933\n",
       "3     13.565266\n",
       "4     13.857571\n",
       "5      14.16645\n",
       "6     15.524073\n",
       "7     15.387375\n",
       "8     15.601141\n",
       "9      19.48537\n",
       "10    25.250188\n",
       "11    16.726712\n",
       "12    19.926859\n",
       "13    14.158491\n",
       "14     13.26425\n",
       "15     21.74258\n",
       "16    21.819042\n",
       "dtype: object"
      ]
     },
     "execution_count": 29,
     "metadata": {},
     "output_type": "execute_result"
    }
   ],
   "source": [
    "final_par6"
   ]
  }
 ],
 "metadata": {
  "kernelspec": {
   "display_name": "csiexplorer",
   "language": "python",
   "name": "python3"
  },
  "language_info": {
   "codemirror_mode": {
    "name": "ipython",
    "version": 3
   },
   "file_extension": ".py",
   "mimetype": "text/x-python",
   "name": "python",
   "nbconvert_exporter": "python",
   "pygments_lexer": "ipython3",
   "version": "3.10.9"
  },
  "orig_nbformat": 4
 },
 "nbformat": 4,
 "nbformat_minor": 2
}
