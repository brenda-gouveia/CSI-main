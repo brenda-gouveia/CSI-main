{
 "cells": [
  {
   "cell_type": "code",
   "execution_count": 1,
   "metadata": {},
   "outputs": [],
   "source": [
    "import pandas as pd\n",
    "import pickle\n",
    "import numpy as np"
   ]
  },
  {
   "cell_type": "code",
   "execution_count": 2,
   "metadata": {},
   "outputs": [],
   "source": [
    "with open (\"variaveis.pkl\", mode ='rb') as f:\n",
    "    relogio, par1 , par2, par3, par4, par5, par6, par7 = pickle.load(f) "
   ]
  },
  {
   "cell_type": "code",
   "execution_count": 8,
   "metadata": {},
   "outputs": [],
   "source": [
    "def formula(relogio, par):\n",
    "    aux = abs(par - relogio)\n",
    "    \n",
    "    return (aux/relogio)*100"
   ]
  },
  {
   "cell_type": "code",
   "execution_count": 11,
   "metadata": {},
   "outputs": [],
   "source": [
    "def erro_percentual_medio(obj):\n",
    "\n",
    "    aux = pd.Series()\n",
    "\n",
    "    for i in obj.index:\n",
    "        soma = 0\n",
    "        for j in obj.columns:\n",
    "            soma += obj.loc[[i]][j]\n",
    "             \n",
    "        avg = soma/len(obj.columns)\n",
    "\n",
    "        aux = pd.concat([aux, avg])\n",
    "\n",
    "    return aux"
   ]
  },
  {
   "cell_type": "code",
   "execution_count": 9,
   "metadata": {},
   "outputs": [],
   "source": [
    "porcentagem = np.frompyfunc(formula, 2, 1)"
   ]
  },
  {
   "cell_type": "code",
   "execution_count": 10,
   "metadata": {},
   "outputs": [],
   "source": [
    "erro_percentual = porcentagem(relogio, par1) #pega a parte inicial da formula"
   ]
  },
  {
   "cell_type": "code",
   "execution_count": 12,
   "metadata": {},
   "outputs": [
    {
     "name": "stderr",
     "output_type": "stream",
     "text": [
      "C:\\Users\\Brenda\\AppData\\Local\\Temp\\ipykernel_6800\\3403048027.py:3: FutureWarning: The default dtype for empty Series will be 'object' instead of 'float64' in a future version. Specify a dtype explicitly to silence this warning.\n",
      "  aux = pd.Series()\n"
     ]
    }
   ],
   "source": [
    "final_erro_percentual_medio = erro_percentual_medio(erro_percentual) #aplica a média para cada posição"
   ]
  },
  {
   "cell_type": "code",
   "execution_count": 14,
   "metadata": {},
   "outputs": [
    {
     "data": {
      "text/plain": [
       "001    14.476390\n",
       "002    31.541668\n",
       "003    18.053956\n",
       "007    17.435913\n",
       "008    24.925494\n",
       "         ...    \n",
       "111    17.949466\n",
       "113    16.603966\n",
       "114    13.742402\n",
       "115    14.259207\n",
       "116    21.610164\n",
       "Length: 106, dtype: float64"
      ]
     },
     "execution_count": 14,
     "metadata": {},
     "output_type": "execute_result"
    }
   ],
   "source": [
    "erro_percentual.mean() # média por coluna"
   ]
  }
 ],
 "metadata": {
  "kernelspec": {
   "display_name": "csiexplorer",
   "language": "python",
   "name": "python3"
  },
  "language_info": {
   "codemirror_mode": {
    "name": "ipython",
    "version": 3
   },
   "file_extension": ".py",
   "mimetype": "text/x-python",
   "name": "python",
   "nbconvert_exporter": "python",
   "pygments_lexer": "ipython3",
   "version": "3.10.9"
  },
  "orig_nbformat": 4
 },
 "nbformat": 4,
 "nbformat_minor": 2
}
