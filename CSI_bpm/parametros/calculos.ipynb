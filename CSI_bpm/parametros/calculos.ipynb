{
 "cells": [
  {
   "cell_type": "code",
   "execution_count": 1,
   "metadata": {},
   "outputs": [],
   "source": [
    "import pandas as pd\n",
    "import pickle\n",
    "import numpy as np"
   ]
  },
  {
   "cell_type": "code",
   "execution_count": 2,
   "metadata": {},
   "outputs": [],
   "source": [
    "with open (\"variaveis.pkl\", mode ='rb') as f:\n",
    "        relogio, par1 , par2, par3, par4, par5, par6, par7 = pickle.load(f) "
   ]
  },
  {
   "cell_type": "code",
   "execution_count": 3,
   "metadata": {},
   "outputs": [],
   "source": [
    "a = par3\n",
    "b = par4\n",
    "c = par5\n",
    "d = par6"
   ]
  },
  {
   "attachments": {},
   "cell_type": "markdown",
   "metadata": {},
   "source": [
    "## Média de diferência"
   ]
  },
  {
   "cell_type": "code",
   "execution_count": 4,
   "metadata": {},
   "outputs": [],
   "source": [
    "def media(obj): # calcula a média dos valores #\n",
    "\n",
    "    aux = pd.Series()\n",
    "\n",
    "    for i in obj.index:\n",
    "        soma = 0\n",
    "        for j in obj.columns:\n",
    "            soma += obj.loc[[i]][j]\n",
    "             \n",
    "        \n",
    "        avg = soma/len(obj.columns)\n",
    "\n",
    "        aux = pd.concat([aux, avg])\n",
    "\n",
    "    return aux"
   ]
  },
  {
   "cell_type": "code",
   "execution_count": 5,
   "metadata": {},
   "outputs": [],
   "source": [
    "def diferenca(r, p):\n",
    "    f = p-r\n",
    "    x = 1 # p\n",
    "\n",
    "    final = (f/x) \n",
    "\n",
    "    return round(final,3)"
   ]
  },
  {
   "cell_type": "code",
   "execution_count": 6,
   "metadata": {},
   "outputs": [],
   "source": [
    "diferenca = np.frompyfunc(diferenca, 2, 1)"
   ]
  },
  {
   "cell_type": "code",
   "execution_count": 7,
   "metadata": {},
   "outputs": [],
   "source": [
    "# antes era f1,f2....\n",
    "\n",
    "A = diferenca(relogio, a)\n",
    "\n",
    "B = diferenca(relogio, b)\n",
    "\n",
    "C = diferenca(relogio, c)\n",
    "\n",
    "D = diferenca(relogio, d)"
   ]
  },
  {
   "cell_type": "code",
   "execution_count": 8,
   "metadata": {},
   "outputs": [
    {
     "name": "stderr",
     "output_type": "stream",
     "text": [
      "C:\\Users\\Brenda\\AppData\\Local\\Temp\\ipykernel_10304\\231369269.py:3: FutureWarning: The default dtype for empty Series will be 'object' instead of 'float64' in a future version. Specify a dtype explicitly to silence this warning.\n",
      "  aux = pd.Series()\n",
      "C:\\Users\\Brenda\\AppData\\Local\\Temp\\ipykernel_10304\\231369269.py:3: FutureWarning: The default dtype for empty Series will be 'object' instead of 'float64' in a future version. Specify a dtype explicitly to silence this warning.\n",
      "  aux = pd.Series()\n",
      "C:\\Users\\Brenda\\AppData\\Local\\Temp\\ipykernel_10304\\231369269.py:3: FutureWarning: The default dtype for empty Series will be 'object' instead of 'float64' in a future version. Specify a dtype explicitly to silence this warning.\n",
      "  aux = pd.Series()\n",
      "C:\\Users\\Brenda\\AppData\\Local\\Temp\\ipykernel_10304\\231369269.py:3: FutureWarning: The default dtype for empty Series will be 'object' instead of 'float64' in a future version. Specify a dtype explicitly to silence this warning.\n",
      "  aux = pd.Series()\n"
     ]
    }
   ],
   "source": [
    "mean_a = media(A) # mostra a média por linha, ou seja pelas posições\n",
    "\n",
    "mean_b = media(B)\n",
    "\n",
    "mean_c = media(C)\n",
    "\n",
    "mean_d = media(D)"
   ]
  },
  {
   "cell_type": "code",
   "execution_count": null,
   "metadata": {},
   "outputs": [],
   "source": [
    "planA = A.mean() # transforma em média por coluna, isso é, a média de cada participante\n",
    "planB = B.mean() #\n",
    "planC = C.mean() #\n",
    "planD = D.mean()"
   ]
  },
  {
   "cell_type": "code",
   "execution_count": null,
   "metadata": {},
   "outputs": [],
   "source": [
    "planA # a media por cada participante"
   ]
  },
  {
   "cell_type": "code",
   "execution_count": null,
   "metadata": {},
   "outputs": [],
   "source": [
    "def min_max(plan):\n",
    "    return (plan[plan == plan.min()], plan[plan == plan.max()]) # tupla com a coluna que possui a menor e maior diferença\n"
   ]
  },
  {
   "cell_type": "code",
   "execution_count": null,
   "metadata": {},
   "outputs": [],
   "source": [
    "planA = min_max(planA) # retorna os participantes que tem a menor e maior média, respectivamente\n",
    "\n",
    "planB = min_max(planB) \n",
    "\n",
    "planC = min_max(planC)\n",
    "\n",
    "planD = min_max(planD)"
   ]
  },
  {
   "attachments": {},
   "cell_type": "markdown",
   "metadata": {},
   "source": [
    "# Plot"
   ]
  },
  {
   "cell_type": "code",
   "execution_count": null,
   "metadata": {},
   "outputs": [],
   "source": [
    "import numpy as np\n",
    "\n",
    "\n",
    "config_a = [np.NAN]\n",
    "config_b = [np.NAN]\n",
    "config_c = [np.NAN]\n",
    "config_d = [np.NAN]\n",
    "config_relogio = [np.NAN]\n",
    "\n",
    "config_a = np.concatenate((config_a, a[\"082\"].to_numpy()))\n",
    "config_b = np.concatenate((config_b, b[\"082\"].to_numpy()))\n",
    "config_c = np.concatenate((config_c, c[\"082\"].to_numpy()))\n",
    "config_d = np.concatenate((config_d, d[\"082\"].to_numpy()))\n",
    "config_relogio = np.concatenate((config_relogio, relogio[\"082\"].to_numpy()))\n",
    "\n",
    "\n",
    "\n",
    "\n"
   ]
  },
  {
   "cell_type": "code",
   "execution_count": null,
   "metadata": {},
   "outputs": [],
   "source": [
    "import matplotlib.pyplot as plt\n",
    "from matplotlib import ticker\n",
    "\n",
    "plt.style.use('_mpl-gallery') #_mpl-gallery\n",
    "\n",
    "fig, ax = plt.subplots(figsize=(7, 3), layout='constrained')\n",
    "\n",
    "ax.plot(config_a, 'o', label='CSI config A')\n",
    "ax.plot(config_b, 'd', label='CSI config B', color = \"yellow\")\n",
    "ax.plot(config_c, 'v', label='CSI config C', color = \"orange\")\n",
    "ax.plot(config_d, 's', label='CSI config D', color = \"red\")\n",
    "ax.plot(config_relogio, 'p', label='Relogio', color = \"green\")\n",
    "\n",
    "ax.legend(bbox_to_anchor=(1.05, 1), loc='upper left', borderaxespad=0.)\n",
    "\n",
    "ax.set_xlabel('Posição')\n",
    "ax.set_ylabel('Bpm')\n",
    "ax.set_title('Participante 082')\n",
    "ax.xaxis.set_major_locator(ticker.FixedLocator([1,2,3,4,5,6,7,8,9,10,11,12,13,14,15,16,17,18]))\n",
    "\n",
    "plt.show()\n",
    "plt.savefig(\"grafico_dispersao.png\")"
   ]
  }
 ],
 "metadata": {
  "kernelspec": {
   "display_name": "csiexplorer",
   "language": "python",
   "name": "python3"
  },
  "language_info": {
   "codemirror_mode": {
    "name": "ipython",
    "version": 3
   },
   "file_extension": ".py",
   "mimetype": "text/x-python",
   "name": "python",
   "nbconvert_exporter": "python",
   "pygments_lexer": "ipython3",
   "version": "3.10.9"
  },
  "orig_nbformat": 4
 },
 "nbformat": 4,
 "nbformat_minor": 2
}
